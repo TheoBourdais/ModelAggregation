{
 "cells": [
  {
   "cell_type": "code",
   "execution_count": 41,
   "metadata": {},
   "outputs": [],
   "source": [
    "import numpy as np\n",
    "import matplotlib.pyplot as plt"
   ]
  },
  {
   "cell_type": "code",
   "execution_count": 111,
   "metadata": {},
   "outputs": [],
   "source": [
    "def eval_sample(x,gaussian_coeffs,start_freq=1):\n",
    "    k=np.linspace(start_freq,start_freq+gaussian_coeffs.shape[0]-1,gaussian_coeffs.shape[0])\n",
    "    sinuses=np.sin(np.pi*k[None,:]*x[:,:1])[:,:,None]*np.sin(np.pi*k[None,:]*x[:,1:])[:,None,:]\n",
    "\n",
    "    coeffs=(np.pi)**2*(k[None,:]**2+k[:,None]**2)\n",
    "    return np.sum(sinuses*gaussian_coeffs/coeffs,axis=(1,2))\n",
    "\n",
    "def eval_sample(x,gaussian_coeffs, start_freq=1):\n",
    "    k = np.linspace(\n",
    "        start_freq, start_freq + gaussian_coeffs.shape[0] - 1, gaussian_coeffs.shape[0]\n",
    "    )\n",
    "    sinuses = (\n",
    "        np.sin(np.pi * k[None, :] * x[:, :1])[:, :, None]\n",
    "        * np.sin(np.pi * k[None, :] * x[:, 1:])[:, None, :]\n",
    "    )\n",
    "\n",
    "    coeffs = np.pi**2 * (k[None, :] ** 2 + k[:, None] ** 2)\n",
    "    vals = np.sum(sinuses * gaussian_coeffs / coeffs, axis=(1, 2))\n",
    "    return np.where(vals >= 0, 12, 3)"
   ]
  },
  {
   "cell_type": "code",
   "execution_count": 121,
   "metadata": {},
   "outputs": [],
   "source": [
    "\n",
    "np.random.seed(1)"
   ]
  },
  {
   "cell_type": "code",
   "execution_count": 118,
   "metadata": {},
   "outputs": [],
   "source": [
    "\n"
   ]
  },
  {
   "cell_type": "code",
   "execution_count": 110,
   "metadata": {},
   "outputs": [
    {
     "data": {
      "text/plain": [
       "array([-2.71483023e-32])"
      ]
     },
     "execution_count": 110,
     "metadata": {},
     "output_type": "execute_result"
    }
   ],
   "source": [
    "eval_sample(np.array([[1,1]]),gaussian_coeffs)"
   ]
  },
  {
   "cell_type": "code",
   "execution_count": 122,
   "metadata": {},
   "outputs": [
    {
     "data": {
      "text/plain": [
       "<matplotlib.colorbar.Colorbar at 0x11ad48e90>"
      ]
     },
     "execution_count": 122,
     "metadata": {},
     "output_type": "execute_result"
    },
    {
     "data": {
      "image/png": "[encoded data removed]",
      "text/plain": [
       "<Figure size 640x480 with 2 Axes>"
      ]
     },
     "metadata": {},
     "output_type": "display_data"
    }
   ],
   "source": [
    "x = np.linspace(0, 1, 100,endpoint=True)\n",
    "y = np.linspace(0, 1, 100,endpoint=True)\n",
    "gaussian_coeffs=np.random.normal(size=(100,100))\n",
    "xv, yv = np.meshgrid(x, y)\n",
    "X=np.stack([xv.flatten(),yv.flatten()],axis=-1)\n",
    "Z=eval_sample(X,gaussian_coeffs,1).reshape((100,100))\n",
    "plt.imshow(Z)\n",
    "plt.colorbar()"
   ]
  },
  {
   "cell_type": "code",
   "execution_count": 49,
   "metadata": {},
   "outputs": [
    {
     "data": {
      "text/plain": [
       "array([[ 0.00000000e+00,  0.00000000e+00,  0.00000000e+00, ...,\n",
       "         0.00000000e+00,  0.00000000e+00,  0.00000000e+00],\n",
       "       [ 0.00000000e+00, -1.63330514e-03, -3.09462988e-04, ...,\n",
       "         1.34025944e-03,  5.33523005e-04, -1.93067176e-17],\n",
       "       [ 0.00000000e+00,  9.19702825e-04,  3.17021361e-03, ...,\n",
       "        -9.62658725e-05, -9.26136068e-05, -1.38399690e-17],\n",
       "       ...,\n",
       "       [ 0.00000000e+00,  9.58531870e-05,  4.41642597e-03, ...,\n",
       "         2.25024407e-03,  2.03692333e-03,  1.16123738e-17],\n",
       "       [ 0.00000000e+00,  6.08200321e-05,  1.77001197e-03, ...,\n",
       "         3.93237038e-05,  1.22757582e-03,  4.09603301e-18],\n",
       "       [ 0.00000000e+00,  3.06551905e-18,  1.11018442e-18, ...,\n",
       "        -1.03249874e-17,  2.83255799e-17,  2.59018514e-31]])"
      ]
     },
     "execution_count": 49,
     "metadata": {},
     "output_type": "execute_result"
    }
   ],
   "source": [
    "Z"
   ]
  },
  {
   "cell_type": "code",
   "execution_count": 60,
   "metadata": {},
   "outputs": [],
   "source": [
    "def mat_fun(ts, coors, mode=None, **kwargs):\n",
    "    if mode == 'qp':\n",
    "        nqp, dim = coors.shape\n",
    "        alpha = np.zeros((nqp,1,1), dtype=np.float64)\n",
    "        alpha[0:nqp // 2,...] = 12\n",
    "        alpha[nqp // 2:,...] = 13\n",
    "        K = np.eye(dim, dtype=np.float64)\n",
    "        K2 = np.tile(K, (nqp,1,1))\n",
    "        out = {\n",
    "            'K' : K2,\n",
    "            'f_1': 20.0 * np.ones((nqp,1,1), dtype=np.float64),\n",
    "            'f_2': -20.0 * np.ones((nqp,1,1), dtype=np.float64),\n",
    "            'G_alfa': 1.2345 * alpha,\n",
    "            }\n",
    "\n",
    "        return out"
   ]
  },
  {
   "cell_type": "code",
   "execution_count": 63,
   "metadata": {},
   "outputs": [
    {
     "data": {
      "text/plain": [
       "(24, 2, 2)"
      ]
     },
     "execution_count": 63,
     "metadata": {},
     "output_type": "execute_result"
    }
   ],
   "source": [
    "mat_fun(None,np.random.rand(24,2),mode='qp')['K'].shape"
   ]
  },
  {
   "cell_type": "code",
   "execution_count": 64,
   "metadata": {},
   "outputs": [],
   "source": [
    "import meshio\n",
    "mesh = meshio.read('new_square_2.vtk')"
   ]
  },
  {
   "cell_type": "code",
   "execution_count": 72,
   "metadata": {},
   "outputs": [
    {
     "data": {
      "text/plain": [
       "{'p': array([  0.        ,   0.        ,   0.        ,   0.        ,\n",
       "          0.        ,   0.        ,   0.        ,   0.        ,\n",
       "          0.        ,   0.        ,   0.        ,   0.        ,\n",
       "          0.        ,   0.        ,   0.        ,   0.        ,\n",
       "          0.        ,   0.        ,   0.        ,   0.        ,\n",
       "          0.        ,   0.        ,   0.        ,   0.        ,\n",
       "          0.        ,   0.        ,   0.        ,   0.        ,\n",
       "          0.        ,   0.        ,   0.        ,   0.        ,\n",
       "          0.        ,   0.        ,   0.        ,   0.        ,\n",
       "          0.        ,   0.        ,   0.        ,   0.        ,\n",
       "          2.05896969,   0.13018984,  -2.31143815,  -5.1895948 ,\n",
       "          0.74618229,  -3.90566206,  -1.98994214,   5.04963343,\n",
       "          1.10737835,   2.24505009,   9.90188973,  -2.37908808,\n",
       "          3.03455484,   4.7434682 ,  14.33030191,  -2.73363955,\n",
       "          1.37254271,   1.34398452,  -0.6089934 ,   0.19965939,\n",
       "          1.90106218,   0.24133848,  -1.40354881,  -1.58230641,\n",
       "          0.95040783,  -1.48404537,  12.29324074,  -3.57771799,\n",
       "         -2.92781444,  -4.37068483,  -0.20396108,  -6.95558425,\n",
       "          3.39487784,  -3.58427198,  -6.48274952,  -4.67337659,\n",
       "          1.14105517, -17.480789  ,   0.70676902,  -1.31095621,\n",
       "          4.92704403,   1.93847114,  10.90732242,  16.99140988,\n",
       "         -3.53752505,   5.20907372,   1.3419949 ,  -1.71185785,\n",
       "         -0.29627095,  -1.47380326,  -2.63282712,  -2.44395949,\n",
       "         -2.56490412,  -2.45359972,  -2.53068971,  -2.98497473,\n",
       "         -3.12416264,  -3.11087526,   3.83247015,  17.10664606,\n",
       "          5.42037281,  10.27012807,  -0.65378248,  -4.97576802,\n",
       "          8.33995959,  -3.32783516,  17.48059537,   4.3441988 ,\n",
       "         -1.60971428,  -4.61450368,  -1.19860315,   8.35635996,\n",
       "         -3.27688707,   0.90342264,   4.00352317,  17.19654562,\n",
       "         25.95394709,  -2.7081047 ,   1.73283702,  11.48070392,\n",
       "         -1.79252978,  -3.49762844,  10.82993882,  -3.79832302,\n",
       "         -2.35403846,   4.40648299,   7.39134482,  -7.22231412,\n",
       "          4.67743585,  -3.58736366,  -1.95377833,  -5.97602596,\n",
       "          1.6056232 , -13.9997336 ,  13.62698381,  -1.62118581,\n",
       "         -4.27747925,   0.27447605,   4.05405752,  13.73946222,\n",
       "          4.50903311,   4.00389344], dtype='>f8'),\n",
       " 'node_groups': array([1, 2, 3, 4, 1, 1, 1, 1, 1, 1, 1, 1, 1, 2, 2, 2, 2, 2, 2, 2, 2, 2,\n",
       "        3, 3, 3, 3, 3, 3, 3, 3, 3, 4, 4, 4, 4, 4, 4, 4, 4, 4, 1, 1, 1, 1,\n",
       "        1, 1, 1, 1, 1, 1, 1, 1, 1, 1, 1, 1, 1, 1, 1, 1, 1, 1, 1, 1, 1, 1,\n",
       "        1, 1, 1, 1, 1, 1, 1, 1, 1, 1, 1, 1, 1, 1, 1, 1, 1, 1, 1, 1, 1, 1,\n",
       "        1, 1, 1, 1, 1, 1, 1, 1, 1, 1, 1, 1, 1, 1, 1, 1, 1, 1, 1, 1, 1, 1,\n",
       "        1, 1, 1, 1, 1, 1, 1, 1, 1, 1, 1, 1, 1, 1, 1, 1, 1, 1, 1, 1, 1, 1,\n",
       "        1, 1, 1, 1, 1, 1, 1, 1, 1, 1], dtype='>i8')}"
      ]
     },
     "execution_count": 72,
     "metadata": {},
     "output_type": "execute_result"
    }
   ],
   "source": [
    "mesh.point_data"
   ]
  },
  {
   "cell_type": "code",
   "execution_count": null,
   "metadata": {},
   "outputs": [],
   "source": []
  }
 ],
 "metadata": {
  "kernelspec": {
   "display_name": "PDE",
   "language": "python",
   "name": "python3"
  },
  "language_info": {
   "codemirror_mode": {
    "name": "ipython",
    "version": 3
   },
   "file_extension": ".py",
   "mimetype": "text/x-python",
   "name": "python",
   "nbconvert_exporter": "python",
   "pygments_lexer": "ipython3",
   "version": "3.11.4"
  },
  "orig_nbformat": 4
 },
 "nbformat": 4,
 "nbformat_minor": 2
}
