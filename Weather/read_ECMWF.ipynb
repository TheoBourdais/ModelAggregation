{
 "cells": [
  {
   "cell_type": "code",
   "execution_count": 2,
   "metadata": {},
   "outputs": [],
   "source": [
    "from scipy.io import netcdf_file\n",
    "import numpy as np\n",
    "import matplotlib\n",
    "import matplotlib.pyplot as plt"
   ]
  },
  {
   "cell_type": "code",
   "execution_count": 3,
   "metadata": {},
   "outputs": [],
   "source": [
    "file2read = netcdf_file('/Users/theobourdais/Downloads/ECMWF_HRES_12Z_20201231.nc','r')\n",
    "temp = file2read.variables['t2m'] # var can be 'Theta', 'S', 'V', 'U' etc..\n",
    "data = temp[:]*1"
   ]
  },
  {
   "cell_type": "code",
   "execution_count": 4,
   "metadata": {},
   "outputs": [
    {
     "data": {
      "text/plain": [
       "(91, 85, 325)"
      ]
     },
     "execution_count": 4,
     "metadata": {},
     "output_type": "execute_result"
    }
   ],
   "source": [
    "file2read.variables['t2m'].shape"
   ]
  },
  {
   "cell_type": "code",
   "execution_count": 5,
   "metadata": {},
   "outputs": [
    {
     "data": {
      "text/plain": [
       "(325,)"
      ]
     },
     "execution_count": 5,
     "metadata": {},
     "output_type": "execute_result"
    }
   ],
   "source": [
    "file2read.variables['longitude'].shape"
   ]
  },
  {
   "cell_type": "code",
   "execution_count": 7,
   "metadata": {},
   "outputs": [
    {
     "data": {
      "text/plain": [
       "-123.5"
      ]
     },
     "execution_count": 7,
     "metadata": {},
     "output_type": "execute_result"
    }
   ],
   "source": [
    "file2read.variables['longitude'][5]"
   ]
  },
  {
   "cell_type": "code",
   "execution_count": 6,
   "metadata": {},
   "outputs": [
    {
     "data": {
      "text/plain": [
       "(85,)"
      ]
     },
     "execution_count": 6,
     "metadata": {},
     "output_type": "execute_result"
    }
   ],
   "source": [
    "file2read.variables['latitude'].shape"
   ]
  },
  {
   "cell_type": "code",
   "execution_count": 7,
   "metadata": {},
   "outputs": [
    {
     "data": {
      "text/plain": [
       "(91,)"
      ]
     },
     "execution_count": 7,
     "metadata": {},
     "output_type": "execute_result"
    }
   ],
   "source": [
    "file2read.variables['time'].shape"
   ]
  },
  {
   "cell_type": "code",
   "execution_count": 8,
   "metadata": {},
   "outputs": [
    {
     "data": {
      "text/plain": [
       "{'longitude': <scipy.io._netcdf.netcdf_variable at 0x10ee32fb0>,\n",
       " 'latitude': <scipy.io._netcdf.netcdf_variable at 0x12cb77bb0>,\n",
       " 'time': <scipy.io._netcdf.netcdf_variable at 0x12cb77f40>,\n",
       " 'fdir': <scipy.io._netcdf.netcdf_variable at 0x12cb777f0>,\n",
       " 'sp': <scipy.io._netcdf.netcdf_variable at 0x12cb776d0>,\n",
       " 'tcwv': <scipy.io._netcdf.netcdf_variable at 0x12cb77ac0>,\n",
       " 'u10': <scipy.io._netcdf.netcdf_variable at 0x12cb77b20>,\n",
       " 'v10': <scipy.io._netcdf.netcdf_variable at 0x12cb77fa0>,\n",
       " 't2m': <scipy.io._netcdf.netcdf_variable at 0x12cba4040>,\n",
       " 'd2m': <scipy.io._netcdf.netcdf_variable at 0x12cba40a0>,\n",
       " 'ssrd': <scipy.io._netcdf.netcdf_variable at 0x10ee1a6b0>,\n",
       " 'strd': <scipy.io._netcdf.netcdf_variable at 0x12cba4160>,\n",
       " 'lcc': <scipy.io._netcdf.netcdf_variable at 0x12cba4100>,\n",
       " 'tco3': <scipy.io._netcdf.netcdf_variable at 0x12cba4130>,\n",
       " 'tisr': <scipy.io._netcdf.netcdf_variable at 0x12cba41c0>,\n",
       " 'tp': <scipy.io._netcdf.netcdf_variable at 0x12cba4250>,\n",
       " 'fal': <scipy.io._netcdf.netcdf_variable at 0x12cba42b0>}"
      ]
     },
     "execution_count": 8,
     "metadata": {},
     "output_type": "execute_result"
    }
   ],
   "source": [
    "file2read.variables"
   ]
  },
  {
   "cell_type": "code",
   "execution_count": 9,
   "metadata": {},
   "outputs": [
    {
     "data": {
      "text/plain": [
       "(91, 85, 325)"
      ]
     },
     "execution_count": 9,
     "metadata": {},
     "output_type": "execute_result"
    }
   ],
   "source": [
    "data.shape"
   ]
  },
  {
   "cell_type": "code",
   "execution_count": 10,
   "metadata": {},
   "outputs": [
    {
     "data": {
      "text/plain": [
       "<matplotlib.contour.QuadContourSet at 0x12cbf7eb0>"
      ]
     },
     "execution_count": 10,
     "metadata": {},
     "output_type": "execute_result"
    },
    {
     "data": {
      "image/png": "[encoded data removed]",
      "text/plain": [
       "<Figure size 640x480 with 1 Axes>"
      ]
     },
     "metadata": {},
     "output_type": "display_data"
    }
   ],
   "source": [
    "plt.contourf(file2read.variables['sp'][2,:,:])"
   ]
  },
  {
   "cell_type": "code",
   "execution_count": 11,
   "metadata": {},
   "outputs": [
    {
     "ename": "FileNotFoundError",
     "evalue": "[Errno 2] No such file or directory: 'uwstemp.nc'",
     "output_type": "error",
     "traceback": [
      "\u001b[0;31m---------------------------------------------------------------------------\u001b[0m",
      "\u001b[0;31mFileNotFoundError\u001b[0m                         Traceback (most recent call last)",
      "\u001b[1;32m/Users/theobourdais/Desktop/Caltech/Research/model_aggregation/ModelAggregation/domain_decomposition_GP_PDE/read_ECMWF.ipynb Cellule 10\u001b[0m in \u001b[0;36m5\n\u001b[1;32m      <a href='vscode-notebook-cell:/Users/theobourdais/Desktop/Caltech/Research/model_aggregation/ModelAggregation/domain_decomposition_GP_PDE/read_ECMWF.ipynb#X13sZmlsZQ%3D%3D?line=2'>3</a>\u001b[0m \u001b[39mimport\u001b[39;00m \u001b[39mnetCDF4\u001b[39;00m \u001b[39m# import libraries\u001b[39;00m\n\u001b[1;32m      <a href='vscode-notebook-cell:/Users/theobourdais/Desktop/Caltech/Research/model_aggregation/ModelAggregation/domain_decomposition_GP_PDE/read_ECMWF.ipynb#X13sZmlsZQ%3D%3D?line=3'>4</a>\u001b[0m fp\u001b[39m=\u001b[39m\u001b[39m'\u001b[39m\u001b[39muwstemp.nc\u001b[39m\u001b[39m'\u001b[39m \u001b[39m# your file name with the eventual path\u001b[39;00m\n\u001b[0;32m----> <a href='vscode-notebook-cell:/Users/theobourdais/Desktop/Caltech/Research/model_aggregation/ModelAggregation/domain_decomposition_GP_PDE/read_ECMWF.ipynb#X13sZmlsZQ%3D%3D?line=4'>5</a>\u001b[0m nc \u001b[39m=\u001b[39m netCDF4\u001b[39m.\u001b[39mDataset(fp) \u001b[39m# reading the nc file and creating Dataset\u001b[39;00m\n\u001b[1;32m      <a href='vscode-notebook-cell:/Users/theobourdais/Desktop/Caltech/Research/model_aggregation/ModelAggregation/domain_decomposition_GP_PDE/read_ECMWF.ipynb#X13sZmlsZQ%3D%3D?line=5'>6</a>\u001b[0m \u001b[39m\"\"\" in this dataset each component will be \u001b[39;00m\n\u001b[1;32m      <a href='vscode-notebook-cell:/Users/theobourdais/Desktop/Caltech/Research/model_aggregation/ModelAggregation/domain_decomposition_GP_PDE/read_ECMWF.ipynb#X13sZmlsZQ%3D%3D?line=6'>7</a>\u001b[0m \u001b[39min the form nt,nz,ny,nx i.e. all the variables will be flipped. \"\"\"\u001b[39;00m\n\u001b[1;32m      <a href='vscode-notebook-cell:/Users/theobourdais/Desktop/Caltech/Research/model_aggregation/ModelAggregation/domain_decomposition_GP_PDE/read_ECMWF.ipynb#X13sZmlsZQ%3D%3D?line=7'>8</a>\u001b[0m plt\u001b[39m.\u001b[39mimshow(nc[\u001b[39m'\u001b[39m\u001b[39mTemp\u001b[39m\u001b[39m'\u001b[39m][\u001b[39m1\u001b[39m,:,\u001b[39m0\u001b[39m,:]) \n",
      "File \u001b[0;32msrc/netCDF4/_netCDF4.pyx:2464\u001b[0m, in \u001b[0;36mnetCDF4._netCDF4.Dataset.__init__\u001b[0;34m()\u001b[0m\n",
      "File \u001b[0;32msrc/netCDF4/_netCDF4.pyx:2027\u001b[0m, in \u001b[0;36mnetCDF4._netCDF4._ensure_nc_success\u001b[0;34m()\u001b[0m\n",
      "\u001b[0;31mFileNotFoundError\u001b[0m: [Errno 2] No such file or directory: 'uwstemp.nc'"
     ]
    }
   ],
   "source": [
    "from matplotlib import pyplot as plt # import libraries\n",
    "import pandas as pd # import libraries\n",
    "import netCDF4 # import libraries\n",
    "fp='uwstemp.nc' # your file name with the eventual path\n",
    "nc = netCDF4.Dataset(fp) # reading the nc file and creating Dataset\n",
    "\"\"\" in this dataset each component will be \n",
    "in the form nt,nz,ny,nx i.e. all the variables will be flipped. \"\"\"\n",
    "plt.imshow(nc['Temp'][1,:,0,:]) \n",
    "\"\"\" imshow is a 2D plot function\n",
    "according to what I have said before this will plot the second\n",
    "iteration of the vertical slize with y = 0, one of the vertical\n",
    "boundaries of your model. \"\"\"\n",
    "plt.show() # this shows the plot"
   ]
  },
  {
   "cell_type": "code",
   "execution_count": null,
   "metadata": {},
   "outputs": [
    {
     "ename": "",
     "evalue": "",
     "output_type": "error",
     "traceback": [
      "\u001b[1;31mLes cellules en cours d’exécution avec /usr/bin/python3 nécessitent le package ipykernel.\n",
      "\u001b[1;31mRun the following command to install 'ipykernel' into the Python environment. \n",
      "\u001b[1;31mCommand: '/usr/bin/python3 -m pip install ipykernel -U --user --force-reinstall'"
     ]
    }
   ],
   "source": [
    "import time\n",
    "import Nio\n",
    "import xarray as xr\n",
    "start = time.time()\n",
    "\n",
    "filename  = \"full_path_to_the_grb2_file\"\n",
    "parameter = \"parameter_name\"\n",
    "ds  = xr.open_dataset(filename, engine=\"pynio\")\n",
    "var = ds.get(parameter)\n",
    "end = time.time()\n",
    "print(\"Elapsed time = \", round(end-start,5))"
   ]
  }
 ],
 "metadata": {
  "kernelspec": {
   "display_name": "Python 3",
   "language": "python",
   "name": "python3"
  },
  "language_info": {
   "codemirror_mode": {
    "name": "ipython",
    "version": 3
   },
   "file_extension": ".py",
   "mimetype": "text/x-python",
   "name": "python",
   "nbconvert_exporter": "python",
   "pygments_lexer": "ipython3",
   "version": "3.8.9"
  },
  "orig_nbformat": 4
 },
 "nbformat": 4,
 "nbformat_minor": 2
}
