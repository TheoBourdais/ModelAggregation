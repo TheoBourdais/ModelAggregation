{
 "cells": [
  {
   "cell_type": "code",
   "execution_count": 1,
   "metadata": {},
   "outputs": [],
   "source": [
    "%load_ext autoreload\n",
    "%autoreload 2"
   ]
  },
  {
   "cell_type": "code",
   "execution_count": 2,
   "metadata": {},
   "outputs": [],
   "source": [
    "from kernel import *\n",
    "import numpy as np\n",
    "from PDE_solver_backend import FasterGaussianKernel"
   ]
  },
  {
   "cell_type": "code",
   "execution_count": 3,
   "metadata": {},
   "outputs": [],
   "source": [
    "X=np.random.rand(300,2)\n",
    "Y=np.random.rand(400,2)"
   ]
  },
  {
   "cell_type": "code",
   "execution_count": 4,
   "metadata": {},
   "outputs": [],
   "source": [
    "k=Differentiable_matern_kernel(5/2,0.5)\n"
   ]
  },
  {
   "cell_type": "code",
   "execution_count": 5,
   "metadata": {},
   "outputs": [],
   "source": [
    "k2 = FasterGaussianKernel(0.5, X, np.empty((0,2)), Y, False)"
   ]
  },
  {
   "cell_type": "code",
   "execution_count": 6,
   "metadata": {},
   "outputs": [
    {
     "data": {
      "text/plain": [
       "array([[1.        , 0.91854796, 0.97983953, ..., 0.31387373, 0.59530925,\n",
       "        0.28000738],\n",
       "       [0.91854796, 1.        , 0.82998753, ..., 0.27826448, 0.52523122,\n",
       "        0.35445665],\n",
       "       [0.97983953, 0.82998753, 1.        , ..., 0.29172058, 0.56759421,\n",
       "        0.2208794 ],\n",
       "       ...,\n",
       "       [0.31387373, 0.27826448, 0.29172058, ..., 1.        , 0.8797298 ,\n",
       "        0.68292495],\n",
       "       [0.59530925, 0.52523122, 0.56759421, ..., 0.8797298 , 1.        ,\n",
       "        0.63419454],\n",
       "       [0.28000738, 0.35445665, 0.2208794 , ..., 0.68292495, 0.63419454,\n",
       "        1.        ]])"
      ]
     },
     "execution_count": 6,
     "metadata": {},
     "output_type": "execute_result"
    }
   ],
   "source": [
    "k2.get_dirac()"
   ]
  },
  {
   "cell_type": "code",
   "execution_count": 7,
   "metadata": {},
   "outputs": [
    {
     "data": {
      "text/plain": [
       "array([[1.        , 0.68334574, 0.94503662, ..., 0.45013874, 0.74779467,\n",
       "        0.30931178],\n",
       "       [0.68334574, 1.        , 0.59585874, ..., 0.16796272, 0.33553121,\n",
       "        0.12354606],\n",
       "       [0.94503662, 0.59585874, 1.        , ..., 0.49683735, 0.76876269,\n",
       "        0.27852109],\n",
       "       ...,\n",
       "       [0.45013874, 0.16796272, 0.49683735, ..., 1.        , 0.82503825,\n",
       "        0.59925797],\n",
       "       [0.74779467, 0.33553121, 0.76876269, ..., 0.82503825, 1.        ,\n",
       "        0.55062002],\n",
       "       [0.30931178, 0.12354606, 0.27852109, ..., 0.59925797, 0.55062002,\n",
       "        1.        ]])"
      ]
     },
     "execution_count": 7,
     "metadata": {},
     "output_type": "execute_result"
    }
   ],
   "source": [
    "k.apply('kappa', X, X)"
   ]
  },
  {
   "cell_type": "code",
   "execution_count": 8,
   "metadata": {},
   "outputs": [
    {
     "data": {
      "text/plain": [
       "array([[0.84359043, 0.65835212, 0.85742973, ..., 0.88472845, 0.77366819,\n",
       "        0.88324121],\n",
       "       [0.82569672, 0.60639535, 0.91381832, ..., 0.90887071, 0.45159065,\n",
       "        0.71237926],\n",
       "       [0.69123786, 0.49951789, 0.73468397, ..., 0.7788728 , 0.91899026,\n",
       "        0.93523496],\n",
       "       ...,\n",
       "       [0.2747652 , 0.24728286, 0.25762423, ..., 0.27228966, 0.51995535,\n",
       "        0.35344312],\n",
       "       [0.51338267, 0.44937091, 0.48761648, ..., 0.50895914, 0.71391022,\n",
       "        0.5891344 ],\n",
       "       [0.24861959, 0.30660785, 0.20361737, ..., 0.20284312, 0.2327356 ,\n",
       "        0.18961348]])"
      ]
     },
     "execution_count": 8,
     "metadata": {},
     "output_type": "execute_result"
    }
   ],
   "source": [
    "k.apply('kappa', X, Y)"
   ]
  },
  {
   "cell_type": "code",
   "execution_count": 9,
   "metadata": {},
   "outputs": [
    {
     "data": {
      "text/plain": [
       "array([[ 3.69742208,  0.2382206 ,  4.73704737, ...,  5.1570024 ,\n",
       "         1.7397667 ,  3.22239399],\n",
       "       [ 3.33527109,  0.1107499 ,  5.13466786, ...,  5.35290668,\n",
       "         1.26316234,  2.79883017],\n",
       "       [ 1.52985067, -0.76014847,  2.84642841, ...,  3.48528297,\n",
       "         4.2875577 ,  5.40453562],\n",
       "       ...,\n",
       "       [ 0.89171023,  0.41643685,  0.89151553, ...,  0.96455437,\n",
       "         1.23600516,  1.07358953],\n",
       "       [ 2.06927479,  0.80908301,  2.08205597, ...,  2.20773087,\n",
       "         1.07846019,  1.77469721],\n",
       "       [ 0.52343397,  1.07629638,  0.24506094, ...,  0.15835078,\n",
       "        -0.91215015, -0.38814836]])"
      ]
     },
     "execution_count": 9,
     "metadata": {},
     "output_type": "execute_result"
    }
   ],
   "source": [
    "k.apply('D_x2_D_y2_kappa', X, Y)"
   ]
  },
  {
   "cell_type": "code",
   "execution_count": 10,
   "metadata": {},
   "outputs": [
    {
     "data": {
      "text/plain": [
       "Array(0.84359043, dtype=float64)"
      ]
     },
     "execution_count": 10,
     "metadata": {},
     "output_type": "execute_result"
    }
   ],
   "source": [
    "k.kappa(X[0,0],X[0,1],Y[0,0],Y[0,1])"
   ]
  },
  {
   "cell_type": "code",
   "execution_count": 11,
   "metadata": {},
   "outputs": [
    {
     "data": {
      "text/plain": [
       "array([[0.84359043, 0.65835212, 0.85742973, ..., 0.88472845, 0.77366819,\n",
       "        0.88324121],\n",
       "       [0.82569672, 0.60639535, 0.91381832, ..., 0.90887071, 0.45159065,\n",
       "        0.71237926],\n",
       "       [0.69123786, 0.49951789, 0.73468397, ..., 0.7788728 , 0.91899026,\n",
       "        0.93523496],\n",
       "       ...,\n",
       "       [0.2747652 , 0.24728286, 0.25762423, ..., 0.27228966, 0.51995535,\n",
       "        0.35344312],\n",
       "       [0.51338267, 0.44937091, 0.48761648, ..., 0.50895914, 0.71391022,\n",
       "        0.5891344 ],\n",
       "       [0.24861959, 0.30660785, 0.20361737, ..., 0.20284312, 0.2327356 ,\n",
       "        0.18961348]])"
      ]
     },
     "execution_count": 11,
     "metadata": {},
     "output_type": "execute_result"
    }
   ],
   "source": [
    "from sklearn.gaussian_process.kernels import Matern,RBF\n",
    "kernel = 1.0 * Matern(length_scale=0.5, nu=5/2)\n",
    "#kernel=RBF(length_scale=0.5)\n",
    "kernel(X,Y)"
   ]
  },
  {
   "cell_type": "code",
   "execution_count": 72,
   "metadata": {},
   "outputs": [],
   "source": [
    "import PDE_solver_backend\n",
    "\n",
    "X_int=np.random.rand(1000,2)\n",
    "X_shared=np.random.rand(340,2)\n",
    "X_ext=np.random.rand(550,2)\n",
    "\n"
   ]
  },
  {
   "cell_type": "code",
   "execution_count": 74,
   "metadata": {},
   "outputs": [],
   "source": [
    "A,B,D=PDE_solver_backend.PDESolver.get_kernel_matrix_fast_gaussian(X_int,X_shared,X_ext,0.1,1e-5,False,True)"
   ]
  },
  {
   "cell_type": "code",
   "execution_count": 73,
   "metadata": {},
   "outputs": [
    {
     "name": "stderr",
     "output_type": "stream",
     "text": [
      "2023-07-06 18:33:10.763230: E external/org_tensorflow/tensorflow/compiler/xla/service/slow_operation_alarm.cc:65] Constant folding an instruction is taking > 1s:\n",
      "\n",
      "  reduce.49 (displaying the full instruction incurs a runtime overhead. Raise your logging level to 4 or above).\n",
      "\n",
      "This isn't necessarily a bug; constant-folding is inherently a trade-off between compilation time and speed at runtime.  XLA has some guards that attempt to keep constant folding from taking too long, but fundamentally you'll always be able to come up with an input program that takes a long time.\n",
      "\n",
      "If you'd like to file a bug, run with envvar XLA_FLAGS=--xla_dump_to=/tmp/foo and attach the results.\n",
      "2023-07-06 18:33:12.159354: E external/org_tensorflow/tensorflow/compiler/xla/service/slow_operation_alarm.cc:133] The operation took 2.396182s\n",
      "Constant folding an instruction is taking > 1s:\n",
      "\n",
      "  reduce.49 (displaying the full instruction incurs a runtime overhead. Raise your logging level to 4 or above).\n",
      "\n",
      "This isn't necessarily a bug; constant-folding is inherently a trade-off between compilation time and speed at runtime.  XLA has some guards that attempt to keep constant folding from taking too long, but fundamentally you'll always be able to come up with an input program that takes a long time.\n",
      "\n",
      "If you'd like to file a bug, run with envvar XLA_FLAGS=--xla_dump_to=/tmp/foo and attach the results.\n",
      "2023-07-06 18:33:14.164988: E external/org_tensorflow/tensorflow/compiler/xla/service/slow_operation_alarm.cc:65] Constant folding an instruction is taking > 2s:\n",
      "\n",
      "  reduce.56 (displaying the full instruction incurs a runtime overhead. Raise your logging level to 4 or above).\n",
      "\n",
      "This isn't necessarily a bug; constant-folding is inherently a trade-off between compilation time and speed at runtime.  XLA has some guards that attempt to keep constant folding from taking too long, but fundamentally you'll always be able to come up with an input program that takes a long time.\n",
      "\n",
      "If you'd like to file a bug, run with envvar XLA_FLAGS=--xla_dump_to=/tmp/foo and attach the results.\n",
      "2023-07-06 18:33:14.772230: E external/org_tensorflow/tensorflow/compiler/xla/service/slow_operation_alarm.cc:133] The operation took 2.610748s\n",
      "Constant folding an instruction is taking > 2s:\n",
      "\n",
      "  reduce.56 (displaying the full instruction incurs a runtime overhead. Raise your logging level to 4 or above).\n",
      "\n",
      "This isn't necessarily a bug; constant-folding is inherently a trade-off between compilation time and speed at runtime.  XLA has some guards that attempt to keep constant folding from taking too long, but fundamentally you'll always be able to come up with an input program that takes a long time.\n",
      "\n",
      "If you'd like to file a bug, run with envvar XLA_FLAGS=--xla_dump_to=/tmp/foo and attach the results.\n"
     ]
    }
   ],
   "source": [
    "A2,B2,D2=PDE_solver_backend.PDESolver.get_kernel_matrix_matern(X_int,X_shared,X_ext,0.1,2.5,1e-5,False,True)"
   ]
  },
  {
   "cell_type": "code",
   "execution_count": null,
   "metadata": {},
   "outputs": [
    {
     "data": {
      "text/plain": [
       "9.215970952205541e-09"
      ]
     },
     "execution_count": 56,
     "metadata": {},
     "output_type": "execute_result"
    }
   ],
   "source": [
    "np.linalg.norm(B-B2,np.inf)"
   ]
  },
  {
   "cell_type": "code",
   "execution_count": 21,
   "metadata": {},
   "outputs": [],
   "source": [
    "from tensorflow_probability.substrates.jax.math.psd_kernels import GeneralizedMatern\n",
    "k=GeneralizedMatern(\n",
    "    3.4,\n",
    "    amplitude=None,\n",
    "    length_scale=0.5,\n",
    "    inverse_length_scale=None,\n",
    "    feature_ndims=1,\n",
    "    validate_args=False,\n",
    "    name='GeneralizedMatern'\n",
    ")"
   ]
  },
  {
   "cell_type": "code",
   "execution_count": 26,
   "metadata": {},
   "outputs": [],
   "source": [
    "from tensorflow_probability.substrates.jax.math.psd_kernels import MaternFiveHalves"
   ]
  },
  {
   "cell_type": "code",
   "execution_count": 32,
   "metadata": {},
   "outputs": [
    {
     "data": {
      "text/plain": [
       "Array([[0.84359044, 0.65835214, 0.85742986, ..., 0.88472855, 0.7736683 ,\n",
       "        0.8832413 ],\n",
       "       [0.82569665, 0.6063953 , 0.9138183 , ..., 0.90887076, 0.45159063,\n",
       "        0.7123793 ],\n",
       "       [0.69123787, 0.49951792, 0.7346841 , ..., 0.77887285, 0.9189904 ,\n",
       "        0.93523484],\n",
       "       ...,\n",
       "       [0.2747652 , 0.24728283, 0.25762418, ..., 0.2722896 , 0.5199553 ,\n",
       "        0.35344303],\n",
       "       [0.51338255, 0.44937098, 0.48761648, ..., 0.50895923, 0.7139101 ,\n",
       "        0.5891345 ],\n",
       "       [0.24861957, 0.30660787, 0.20361732, ..., 0.20284304, 0.23273562,\n",
       "        0.18961346]], dtype=float32)"
      ]
     },
     "execution_count": 32,
     "metadata": {},
     "output_type": "execute_result"
    }
   ],
   "source": [
    "k30=MaternFiveHalves(length_scale=0.5)\n",
    "k30.matrix(X,Y)"
   ]
  },
  {
   "cell_type": "code",
   "execution_count": 29,
   "metadata": {},
   "outputs": [
    {
     "ename": "TypeError",
     "evalue": "'float' object is not iterable",
     "output_type": "error",
     "traceback": [
      "\u001b[0;31m---------------------------------------------------------------------------\u001b[0m",
      "\u001b[0;31mTypeError\u001b[0m                                 Traceback (most recent call last)",
      "File \u001b[0;32m/Library/Frameworks/Python.framework/Versions/3.10/lib/python3.10/site-packages/jax/_src/api_util.py:60\u001b[0m, in \u001b[0;36m_ensure_index\u001b[0;34m(x)\u001b[0m\n\u001b[1;32m     59\u001b[0m \u001b[39mtry\u001b[39;00m:\n\u001b[0;32m---> 60\u001b[0m   \u001b[39mreturn\u001b[39;00m operator\u001b[39m.\u001b[39;49mindex(x)\n\u001b[1;32m     61\u001b[0m \u001b[39mexcept\u001b[39;00m \u001b[39mTypeError\u001b[39;00m:\n",
      "\u001b[0;31mTypeError\u001b[0m: 'float' object cannot be interpreted as an integer",
      "\nDuring handling of the above exception, another exception occurred:\n",
      "\u001b[0;31mTypeError\u001b[0m                                 Traceback (most recent call last)",
      "\u001b[1;32m/Users/theobourdais/Desktop/Caltech/Research/model_aggregation/ModelAggregation/test kernel.ipynb Cellule 19\u001b[0m in \u001b[0;36m3\n\u001b[1;32m      <a href='vscode-notebook-cell:/Users/theobourdais/Desktop/Caltech/Research/model_aggregation/ModelAggregation/test%20kernel.ipynb#X34sZmlsZQ%3D%3D?line=0'>1</a>\u001b[0m \u001b[39mfrom\u001b[39;00m \u001b[39mjax\u001b[39;00m \u001b[39mimport\u001b[39;00m grad\n\u001b[0;32m----> <a href='vscode-notebook-cell:/Users/theobourdais/Desktop/Caltech/Research/model_aggregation/ModelAggregation/test%20kernel.ipynb#X34sZmlsZQ%3D%3D?line=2'>3</a>\u001b[0m grad(k30\u001b[39m.\u001b[39mmatrix,\u001b[39m0.0\u001b[39m)(X,Y)\n",
      "File \u001b[0;32m/Library/Frameworks/Python.framework/Versions/3.10/lib/python3.10/site-packages/jax/_src/api.py:1163\u001b[0m, in \u001b[0;36mgrad\u001b[0;34m(fun, argnums, has_aux, holomorphic, allow_int, reduce_axes)\u001b[0m\n\u001b[1;32m   1116\u001b[0m \u001b[39mdef\u001b[39;00m \u001b[39mgrad\u001b[39m(fun: Callable, argnums: Union[\u001b[39mint\u001b[39m, Sequence[\u001b[39mint\u001b[39m]] \u001b[39m=\u001b[39m \u001b[39m0\u001b[39m,\n\u001b[1;32m   1117\u001b[0m          has_aux: \u001b[39mbool\u001b[39m \u001b[39m=\u001b[39m \u001b[39mFalse\u001b[39;00m, holomorphic: \u001b[39mbool\u001b[39m \u001b[39m=\u001b[39m \u001b[39mFalse\u001b[39;00m,\n\u001b[1;32m   1118\u001b[0m          allow_int: \u001b[39mbool\u001b[39m \u001b[39m=\u001b[39m \u001b[39mFalse\u001b[39;00m,\n\u001b[1;32m   1119\u001b[0m          reduce_axes: Sequence[AxisName] \u001b[39m=\u001b[39m ()) \u001b[39m-\u001b[39m\u001b[39m>\u001b[39m Callable:\n\u001b[1;32m   1120\u001b[0m   \u001b[39m\"\"\"Creates a function that evaluates the gradient of ``fun``.\u001b[39;00m\n\u001b[1;32m   1121\u001b[0m \n\u001b[1;32m   1122\u001b[0m \u001b[39m  Args:\u001b[39;00m\n\u001b[0;32m   (...)\u001b[0m\n\u001b[1;32m   1161\u001b[0m \u001b[39m  0.961043\u001b[39;00m\n\u001b[1;32m   1162\u001b[0m \u001b[39m  \"\"\"\u001b[39;00m\n\u001b[0;32m-> 1163\u001b[0m   value_and_grad_f \u001b[39m=\u001b[39m value_and_grad(fun, argnums, has_aux\u001b[39m=\u001b[39;49mhas_aux,\n\u001b[1;32m   1164\u001b[0m                                     holomorphic\u001b[39m=\u001b[39;49mholomorphic,\n\u001b[1;32m   1165\u001b[0m                                     allow_int\u001b[39m=\u001b[39;49mallow_int,\n\u001b[1;32m   1166\u001b[0m                                     reduce_axes\u001b[39m=\u001b[39;49mreduce_axes)\n\u001b[1;32m   1168\u001b[0m   docstr \u001b[39m=\u001b[39m (\u001b[39m\"\u001b[39m\u001b[39mGradient of \u001b[39m\u001b[39m{fun}\u001b[39;00m\u001b[39m with respect to positional argument(s) \u001b[39m\u001b[39m\"\u001b[39m\n\u001b[1;32m   1169\u001b[0m             \u001b[39m\"\u001b[39m\u001b[39m{argnums}\u001b[39;00m\u001b[39m. Takes the same arguments as \u001b[39m\u001b[39m{fun}\u001b[39;00m\u001b[39m but returns the \u001b[39m\u001b[39m\"\u001b[39m\n\u001b[1;32m   1170\u001b[0m             \u001b[39m\"\u001b[39m\u001b[39mgradient, which has the same shape as the arguments at \u001b[39m\u001b[39m\"\u001b[39m\n\u001b[1;32m   1171\u001b[0m             \u001b[39m\"\u001b[39m\u001b[39mpositions \u001b[39m\u001b[39m{argnums}\u001b[39;00m\u001b[39m.\u001b[39m\u001b[39m\"\u001b[39m)\n\u001b[1;32m   1173\u001b[0m   \u001b[39m@wraps\u001b[39m(fun, docstr\u001b[39m=\u001b[39mdocstr, argnums\u001b[39m=\u001b[39margnums)\n\u001b[1;32m   1174\u001b[0m   \u001b[39m@api_boundary\u001b[39m\n\u001b[1;32m   1175\u001b[0m   \u001b[39mdef\u001b[39;00m \u001b[39mgrad_f\u001b[39m(\u001b[39m*\u001b[39margs, \u001b[39m*\u001b[39m\u001b[39m*\u001b[39mkwargs):\n",
      "File \u001b[0;32m/Library/Frameworks/Python.framework/Versions/3.10/lib/python3.10/site-packages/jax/_src/api.py:1234\u001b[0m, in \u001b[0;36mvalue_and_grad\u001b[0;34m(fun, argnums, has_aux, holomorphic, allow_int, reduce_axes)\u001b[0m\n\u001b[1;32m   1227\u001b[0m docstr \u001b[39m=\u001b[39m (\u001b[39m\"\u001b[39m\u001b[39mValue and gradient of \u001b[39m\u001b[39m{fun}\u001b[39;00m\u001b[39m with respect to positional \u001b[39m\u001b[39m\"\u001b[39m\n\u001b[1;32m   1228\u001b[0m           \u001b[39m\"\u001b[39m\u001b[39margument(s) \u001b[39m\u001b[39m{argnums}\u001b[39;00m\u001b[39m. Takes the same arguments as \u001b[39m\u001b[39m{fun}\u001b[39;00m\u001b[39m but \u001b[39m\u001b[39m\"\u001b[39m\n\u001b[1;32m   1229\u001b[0m           \u001b[39m\"\u001b[39m\u001b[39mreturns a two-element tuple where the first element is the value \u001b[39m\u001b[39m\"\u001b[39m\n\u001b[1;32m   1230\u001b[0m           \u001b[39m\"\u001b[39m\u001b[39mof \u001b[39m\u001b[39m{fun}\u001b[39;00m\u001b[39m and the second element is the gradient, which has the \u001b[39m\u001b[39m\"\u001b[39m\n\u001b[1;32m   1231\u001b[0m           \u001b[39m\"\u001b[39m\u001b[39msame shape as the arguments at positions \u001b[39m\u001b[39m{argnums}\u001b[39;00m\u001b[39m.\u001b[39m\u001b[39m\"\u001b[39m)\n\u001b[1;32m   1233\u001b[0m check_callable(fun)\n\u001b[0;32m-> 1234\u001b[0m argnums \u001b[39m=\u001b[39m core\u001b[39m.\u001b[39;49mconcrete_or_error(_ensure_index, argnums)\n\u001b[1;32m   1235\u001b[0m reduce_axes \u001b[39m=\u001b[39m _ensure_str_tuple(reduce_axes)  \u001b[39m# type: ignore\u001b[39;00m\n\u001b[1;32m   1237\u001b[0m \u001b[39m@wraps\u001b[39m(fun, docstr\u001b[39m=\u001b[39mdocstr, argnums\u001b[39m=\u001b[39margnums)\n\u001b[1;32m   1238\u001b[0m \u001b[39m@api_boundary\u001b[39m\n\u001b[1;32m   1239\u001b[0m \u001b[39mdef\u001b[39;00m \u001b[39mvalue_and_grad_f\u001b[39m(\u001b[39m*\u001b[39margs, \u001b[39m*\u001b[39m\u001b[39m*\u001b[39mkwargs):\n",
      "File \u001b[0;32m/Library/Frameworks/Python.framework/Versions/3.10/lib/python3.10/site-packages/jax/_src/core.py:1354\u001b[0m, in \u001b[0;36mconcrete_or_error\u001b[0;34m(force, val, context)\u001b[0m\n\u001b[1;32m   1352\u001b[0m     \u001b[39mraise\u001b[39;00m ConcretizationTypeError(val, context)\n\u001b[1;32m   1353\u001b[0m \u001b[39melse\u001b[39;00m:\n\u001b[0;32m-> 1354\u001b[0m   \u001b[39mreturn\u001b[39;00m force(val)\n",
      "File \u001b[0;32m/Library/Frameworks/Python.framework/Versions/3.10/lib/python3.10/site-packages/jax/_src/api_util.py:62\u001b[0m, in \u001b[0;36m_ensure_index\u001b[0;34m(x)\u001b[0m\n\u001b[1;32m     60\u001b[0m   \u001b[39mreturn\u001b[39;00m operator\u001b[39m.\u001b[39mindex(x)\n\u001b[1;32m     61\u001b[0m \u001b[39mexcept\u001b[39;00m \u001b[39mTypeError\u001b[39;00m:\n\u001b[0;32m---> 62\u001b[0m   \u001b[39mreturn\u001b[39;00m \u001b[39mtuple\u001b[39m(\u001b[39mmap\u001b[39;49m(operator\u001b[39m.\u001b[39;49mindex, x))\n",
      "File \u001b[0;32m/Library/Frameworks/Python.framework/Versions/3.10/lib/python3.10/site-packages/jax/_src/util.py:74\u001b[0m, in \u001b[0;36msafe_map\u001b[0;34m(f, *args)\u001b[0m\n\u001b[1;32m     73\u001b[0m \u001b[39mdef\u001b[39;00m \u001b[39msafe_map\u001b[39m(f, \u001b[39m*\u001b[39margs):\n\u001b[0;32m---> 74\u001b[0m   args \u001b[39m=\u001b[39m \u001b[39mlist\u001b[39;49m(\u001b[39mmap\u001b[39;49m(\u001b[39mlist\u001b[39;49m, args))\n\u001b[1;32m     75\u001b[0m   n \u001b[39m=\u001b[39m \u001b[39mlen\u001b[39m(args[\u001b[39m0\u001b[39m])\n\u001b[1;32m     76\u001b[0m   \u001b[39mfor\u001b[39;00m arg \u001b[39min\u001b[39;00m args[\u001b[39m1\u001b[39m:]:\n",
      "\u001b[0;31mTypeError\u001b[0m: 'float' object is not iterable"
     ]
    }
   ],
   "source": [
    "from jax import grad\n",
    "\n",
    "grad(k30.matrix,0)(X,Y)"
   ]
  },
  {
   "cell_type": "code",
   "execution_count": 22,
   "metadata": {},
   "outputs": [
    {
     "data": {
      "text/plain": [
       "TensorShape([])"
      ]
     },
     "execution_count": 22,
     "metadata": {},
     "output_type": "execute_result"
    }
   ],
   "source": [
    "k.batch_shape"
   ]
  },
  {
   "cell_type": "code",
   "execution_count": 30,
   "metadata": {},
   "outputs": [
    {
     "data": {
      "text/plain": [
       "Array([[0.85911628, 0.67949151, 0.8720622 , ..., 0.89736666, 0.79261181,\n",
       "        0.89599651],\n",
       "       [0.84226649, 0.62733218, 0.92396563, ..., 0.91947012, 0.4683715 ,\n",
       "        0.73297514],\n",
       "       [0.7121431 , 0.51809241, 0.7548131 , ..., 0.79762139, 0.92865248,\n",
       "        0.9432827 ],\n",
       "       ...,\n",
       "       [0.28212326, 0.25293961, 0.26392352, ..., 0.27949535, 0.53916544,\n",
       "        0.36542651],\n",
       "       [0.53239708, 0.46605922, 0.50578406, ..., 0.52783747, 0.73447852,\n",
       "        0.60985877],\n",
       "       [0.25435943, 0.31589558, 0.20656687, ..., 0.20574526, 0.23748689,\n",
       "        0.19171139]], dtype=float64)"
      ]
     },
     "execution_count": 30,
     "metadata": {},
     "output_type": "execute_result"
    }
   ],
   "source": [
    "k.matrix(X,Y)"
   ]
  },
  {
   "cell_type": "code",
   "execution_count": 33,
   "metadata": {},
   "outputs": [
    {
     "data": {
      "text/plain": [
       "array([[0.85911734, 0.67949196, 0.87206335, ..., 0.89736779, 0.79261284,\n",
       "        0.89599747],\n",
       "       [0.84226768, 0.62733288, 0.92396665, ..., 0.91947101, 0.46837205,\n",
       "        0.73297621],\n",
       "       [0.71214374, 0.51809279, 0.75481367, ..., 0.7976221 , 0.92865316,\n",
       "        0.94328359],\n",
       "       ...,\n",
       "       [0.28212358, 0.2529399 , 0.26392381, ..., 0.27949577, 0.53916604,\n",
       "        0.36542689],\n",
       "       [0.53239775, 0.46605959, 0.50578451, ..., 0.5278378 , 0.73447981,\n",
       "        0.60985955],\n",
       "       [0.25435978, 0.31589583, 0.20656716, ..., 0.20574547, 0.23748716,\n",
       "        0.19171148]])"
      ]
     },
     "execution_count": 33,
     "metadata": {},
     "output_type": "execute_result"
    }
   ],
   "source": [
    "k20=Differentiable_matern_kernel(3.4,0.5)\n",
    "k20.apply('kappa', X, Y)"
   ]
  },
  {
   "cell_type": "code",
   "execution_count": 66,
   "metadata": {},
   "outputs": [],
   "source": [
    "X1=np.random.rand(1000,2)\n",
    "X2=np.random.rand(1000,2)"
   ]
  },
  {
   "cell_type": "code",
   "execution_count": 46,
   "metadata": {},
   "outputs": [
    {
     "data": {
      "text/plain": [
       "Array([ 0.77597547, -0.07441442,  0.86355537,  0.11294629, -0.09612498,\n",
       "       -0.5733518 ,  0.83637446,  0.47536579, -0.35579169,  0.22175528,\n",
       "       -0.80782914,  1.2054522 , -0.89258409, -0.19378771, -0.04883518,\n",
       "        1.06471324,  1.23573315, -0.36742666, -0.51217258,  1.02113795,\n",
       "        1.0319252 ,  0.46708742,  0.76188338,  0.3050577 ,  0.01572159,\n",
       "        1.09000468, -0.09390831, -0.28227657,  0.79032683, -0.06031483,\n",
       "       -0.73884451, -0.93737876,  0.38948923,  0.4206042 ,  0.85719001,\n",
       "        0.54934597,  0.95941049,  0.77669746, -0.00263728,  0.24883346,\n",
       "       -0.76897573,  0.63658738, -0.30916899,  0.54950851,  0.22706516,\n",
       "       -0.0479443 ,  0.66254133, -0.42255116, -0.62988287, -0.18772092,\n",
       "       -0.45460409,  1.08738863, -0.10607215, -0.75456697, -0.26568389,\n",
       "       -0.66917574, -0.62131935, -0.9308359 ,  1.00316489, -0.12616596,\n",
       "       -1.13137293, -0.61739022, -0.66051567, -0.65532649, -0.51242518,\n",
       "       -0.3411411 ,  1.24541068, -0.08326506, -0.13999116,  0.41649458,\n",
       "        0.3009299 , -0.23910005,  0.58045077,  0.74560428, -0.17031969,\n",
       "        0.79211104, -0.95104319,  0.29677272, -0.10665426, -1.01978636,\n",
       "       -0.7764647 , -1.07876039,  0.19979377, -0.28393385, -0.45571309,\n",
       "        0.10536771, -0.13991523, -0.2735562 ,  1.09810209, -1.09566355,\n",
       "        0.40010247,  0.62064308, -0.44823033, -0.81367838, -0.84944373,\n",
       "       -0.47544044,  0.4508509 ,  0.31730527, -0.84026307, -0.89826334],      dtype=float64)"
      ]
     },
     "execution_count": 46,
     "metadata": {},
     "output_type": "execute_result"
    }
   ],
   "source": [
    "\n",
    "vmap(grad(lambda x1,x2,y1,y2:k_ex.apply([x1,x2],[y1,y2])))(X1[:,0],X1[:,1],X2[:,0],X2[:,1])"
   ]
  },
  {
   "cell_type": "code",
   "execution_count": 67,
   "metadata": {},
   "outputs": [
    {
     "data": {
      "text/plain": [
       "array([[-0.32707158,  1.12360644,  1.17888534, ...,  0.84148288,\n",
       "         0.86049014, -0.52097857],\n",
       "       [-0.75209844, -0.39805204, -0.09727333, ..., -0.77744025,\n",
       "        -0.85532057, -0.66511494],\n",
       "       [-1.08764291,  0.04595311,  0.54051203, ..., -0.2148045 ,\n",
       "        -0.06854504, -0.9204722 ],\n",
       "       ...,\n",
       "       [-0.71783906,  0.23821211,  0.99248153, ..., -0.1083087 ,\n",
       "         0.12373343, -1.20152164],\n",
       "       [-0.37738371,  0.93576169,  1.23880506, ...,  0.55043375,\n",
       "         0.62735128, -0.80733526],\n",
       "       [-0.30647376, -1.15268219, -0.13667963, ..., -0.99090517,\n",
       "        -0.85033399, -0.89507163]])"
      ]
     },
     "execution_count": 67,
     "metadata": {},
     "output_type": "execute_result"
    }
   ],
   "source": [
    "k20.apply('D_x1_kappa', X1, X2)"
   ]
  },
  {
   "cell_type": "code",
   "execution_count": 42,
   "metadata": {},
   "outputs": [],
   "source": [
    "k_ex=GeneralizedMatern(\n",
    "            5/2,\n",
    "            amplitude=None,\n",
    "            length_scale=0.5,\n",
    "            inverse_length_scale=None,\n",
    "            feature_ndims=1,\n",
    "            validate_args=False,\n",
    "            name=\"GeneralizedMatern\",\n",
    "        )"
   ]
  },
  {
   "cell_type": "code",
   "execution_count": 63,
   "metadata": {},
   "outputs": [],
   "source": [
    "k20=Differentiable_matern_kernel(5/2,0.5)\n"
   ]
  },
  {
   "cell_type": "code",
   "execution_count": 68,
   "metadata": {},
   "outputs": [
    {
     "data": {
      "text/plain": [
       "array([[0.3751048 , 0.82786536, 0.5527889 , ..., 0.8446259 , 0.7672648 ,\n",
       "        0.91501266],\n",
       "       [0.28070432, 0.36462224, 0.4489014 , ..., 0.51035535, 0.5881613 ,\n",
       "        0.29547626],\n",
       "       [0.5429363 , 0.54790443, 0.5019019 , ..., 0.806995  , 0.8766817 ,\n",
       "        0.611975  ],\n",
       "       ...,\n",
       "       [0.42412716, 0.8345645 , 0.7010329 , ..., 0.9971289 , 0.99511623,\n",
       "        0.78058434],\n",
       "       [0.3401162 , 0.90365833, 0.6384953 , ..., 0.8838121 , 0.8081853 ,\n",
       "        0.8587605 ],\n",
       "       [0.1413172 , 0.8255762 , 0.9904279 , ..., 0.64474624, 0.6292723 ,\n",
       "        0.38570076]], dtype=float32)"
      ]
     },
     "execution_count": 68,
     "metadata": {},
     "output_type": "execute_result"
    }
   ],
   "source": [
    "k20.apply('kappa', X1, X2)"
   ]
  },
  {
   "cell_type": "code",
   "execution_count": 69,
   "metadata": {},
   "outputs": [
    {
     "data": {
      "text/plain": [
       "array([[1.        , 0.24127774, 0.16359754, ..., 0.41750526, 0.43376902,\n",
       "        0.5467894 ],\n",
       "       [0.24127774, 1.        , 0.84973013, ..., 0.856457  , 0.7994245 ,\n",
       "        0.65492976],\n",
       "       [0.16359754, 0.84973013, 1.        , ..., 0.70188916, 0.6916475 ,\n",
       "        0.42119452],\n",
       "       ...,\n",
       "       [0.41750526, 0.856457  , 0.70188916, ..., 1.        , 0.9849938 ,\n",
       "        0.8033087 ],\n",
       "       [0.43376902, 0.7994245 , 0.6916475 , ..., 0.9849938 , 1.        ,\n",
       "        0.74996984],\n",
       "       [0.5467894 , 0.65492976, 0.42119452, ..., 0.8033087 , 0.74996984,\n",
       "        1.        ]], dtype=float32)"
      ]
     },
     "execution_count": 69,
     "metadata": {},
     "output_type": "execute_result"
    }
   ],
   "source": [
    "k20.apply('kappa', X2, X2)"
   ]
  }
 ],
 "metadata": {
  "kernelspec": {
   "display_name": "Python 3",
   "language": "python",
   "name": "python3"
  },
  "language_info": {
   "codemirror_mode": {
    "name": "ipython",
    "version": 3
   },
   "file_extension": ".py",
   "mimetype": "text/x-python",
   "name": "python",
   "nbconvert_exporter": "python",
   "pygments_lexer": "ipython3",
   "version": "3.10.7"
  },
  "orig_nbformat": 4
 },
 "nbformat": 4,
 "nbformat_minor": 2
}
